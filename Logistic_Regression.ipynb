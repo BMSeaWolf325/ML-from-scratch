{
 "cells": [
  {
   "cell_type": "code",
   "execution_count": 1,
   "id": "df191c28",
   "metadata": {},
   "outputs": [],
   "source": [
    "import numpy as np\n",
    "import pandas as pd\n",
    "import matplotlib.pyplot as plt\n",
    "from sklearn import datasets\n",
    "from sklearn.model_selection import train_test_split\n",
    "from sklearn.metrics import accuracy_score\n",
    "from sklearn.preprocessing import PolynomialFeatures\n",
    "np.seterr(all = 'ignore')\n",
    "\n",
    "# Using the dataset from the Perceptron Demo\n",
    "def load_data1zeroone(): # Initialize dataset 1 using 0 1 classification\n",
    "    URL_='https://archive.ics.uci.edu/ml/machine-learning-databases/iris/iris.data'\n",
    "    data = pd.read_csv(URL_, header = None)\n",
    "    data = data[:100]\n",
    "    data[4] = np.where(data.iloc[:, -1]=='Iris-setosa', 0, 1)\n",
    "    #data = np.asmatrix(data, dtype = 'float64')\n",
    "    data = data.to_numpy()\n",
    "    #print(data)\n",
    "    features = np.insert(data[:, :-1],0,1,axis=1) # adds bias term (b)\n",
    "    labels = data[:, -1].flatten()\n",
    "    X_train, X_test, y_train, y_test = train_test_split(features, labels, test_size=0.2, random_state=15)\n",
    "    return X_train, X_test, y_train, y_test\n",
    "def load_data2zeroone(): # Initialize dataset 2 using 0 1 classification\n",
    "    data = datasets.load_breast_cancer()\n",
    "    features = np.insert(data.data,0,1,axis=1) # adds bias term (b)\n",
    "    X_train, X_test, y_train, y_test = train_test_split(features, data.target, test_size=0.2, random_state=15)\n",
    "    return X_train, X_test, y_train, y_test\n",
    "def load_data1negpos(): # Initialize dataset 1 using -1 1 classification\n",
    "    URL_='https://archive.ics.uci.edu/ml/machine-learning-databases/iris/iris.data'\n",
    "    data = pd.read_csv(URL_, header = None)\n",
    "    data = data[:100]\n",
    "    data[4] = np.where(data.iloc[:, -1]=='Iris-setosa', -1, 1)\n",
    "    #data = np.asmatrix(data, dtype = 'float64')\n",
    "    data = data.to_numpy()\n",
    "    #print(data)\n",
    "    features = np.insert(data[:, :-1],0,1,axis=1) # adds bias term (b)\n",
    "    labels = data[:, -1].flatten()\n",
    "    X_train, X_test, y_train, y_test = train_test_split(features, labels, test_size=0.2, random_state=15)\n",
    "    return X_train, X_test, y_train, y_test\n",
    "def load_data2negpos(): # Initialize dataset 2 using -1 1 classification\n",
    "    data = datasets.load_breast_cancer()\n",
    "    features = np.insert(data.data,0,1,axis=1) # adds bias term (b)\n",
    "    target = np.where(data.target==0,-1,1)\n",
    "    X_train, X_test, y_train, y_test = train_test_split(features, target, test_size=0.2, random_state=15)\n",
    "    return X_train, X_test, y_train, y_test\n",
    "def load_data3():\n",
    "    data = pd.read_excel('Raisin_Dataset.xlsx')\n",
    "    data[4] = np.where(data.iloc[:, -1]=='Kecimen', 0, 1)\n",
    "    #data = np.asmatrix(data, dtype = 'float64')\n",
    "    data = data.to_numpy()\n",
    "    data = np.delete(data,7,1)\n",
    "    features = np.insert(data[:, :-1],0,1,axis=1) # adds bias term (b)\n",
    "    labels = data[:, -1].flatten()\n",
    "    X_train, X_test, y_train, y_test = train_test_split(features, labels, test_size=0.2, random_state=15)\n",
    "    return X_train, X_test, y_train, y_test"
   ]
  },
  {
   "cell_type": "code",
   "execution_count": 2,
   "id": "20fa59ae",
   "metadata": {},
   "outputs": [],
   "source": [
    "class LogisticRegressionzeroone: # Performing Logistic Regression using 0 1 formula\n",
    "    def __init__(self, max_iters=100, learning_rate=0.001, epsilon=1e-5, lam=0.01):\n",
    "        self.max_iters = max_iters\n",
    "        self.learning_rate = learning_rate\n",
    "        self.epsilon = epsilon\n",
    "        self.lam = lam\n",
    "        self.w = None\n",
    "\n",
    "    def fit(self, X, y):\n",
    "        self.w = np.zeros(X.shape[1])\n",
    "        m = X.size\n",
    "        loss, i = 0, 0\n",
    "        epoch_list, recorded_loss = [], []\n",
    "        while True:\n",
    "            if (i > 0):\n",
    "                recorded_loss.append(loss)\n",
    "                epoch_list.append(i)\n",
    "            #print(np.dot(X, self.w))\n",
    "            model_prediction_vector = (1 / (1 + np.exp(-1 * np.dot(X, self.w)))) + 1e-15\n",
    "            #print(y.T)\n",
    "            #new_loss = (-1/m)*np.sum(np.dot(y.T, np.log(model_prediction_vector)) + np.dot((1-y.T),np.log(1-model_prediction_vector))) + (self.lam/2)*np.sum(np.power(self.w, 2))\n",
    "            #new_loss = (-1/m)*np.sum(1 + np.exp(-1 * np.dot(y.T, model_prediction_vector))) + (self.lam/2)*np.sum(np.power(self.w, 2))\n",
    "############new_loss = np.log(1+np.exp(-1 * np.dot(y, model_prediction_vector))) + ((self.lam/2) * np.sum(self.w ** 2))\n",
    "            #new_loss = (1 / m) * ((-1 * np.dot(y.T,np.log(model_prediction_vector))) - np.dot(1-y.T,np.log(1-model_prediction_vector))) + ((self.w/(2*m)) *np.sum(self.w**2))\n",
    "    #new_loss = (1/m) * np.matmul(-y.T, np.log(model_prediction_vector)) - np.matmul((1 -y.T), np.log(1 - model_prediction_vector)) + ((self.lam/(2*m))*np.sum(np.power(self.w, 2)))\n",
    "        #new_loss = (1/m) * np.matmul(-y.T, np.log(model_prediction_vector)) - np.matmul((1 -y.T), np.log(1 - model_prediction_vector))\n",
    "            new_loss = -np.sum(np.dot(np.log(model_prediction_vector), y) + np.dot((1 - y), np.log(1 - model_prediction_vector)))/m  + ((self.lam/2) * np.sum(self.w ** 2))\n",
    "            #gradient = np.dot(X.transpose(), model_prediction_vector - y) - (2*self.lam*self.w)\n",
    "            #gradient = np.dot(X.T, np.dot(y, (-1 * np.exp(-1 * np.dot(y, model_prediction_vector))) / (1 + np.exp(-1 * np.dot(y, model_prediction_vector))))) + ((self.lam/m) * self.w)\n",
    "            #gradient = (1/m) * np.dot(X.T, np.dot(y, (-1 * np.exp(-1 * np.dot(y, model_prediction_vector))) / (1 + np.exp(-1 * np.dot(y, model_prediction_vector))))) + ((self.lam) * self.w)\n",
    "###########gradient = np.dot(X.T, (model_prediction_vector - y)) + (2*self.lam*self.w)\n",
    "            #gradient = (-1 * np.exp(-1 * np.dot(y, model_prediction_vector))) / (1 + np.exp(-1 * np.dot(y, model_prediction_vector)))\n",
    "            gradient = (1/m) * np.dot(X.T, (model_prediction_vector - y)) + np.sum(self.lam*self.w)\n",
    "        #gradient = (1/m) * np.dot(X.T, (model_prediction_vector - y))\n",
    "            #print((1/m) * np.dot(X.T, (model_prediction_vector - y)))\n",
    "            #print(\"WITH\",(1/m) * np.dot(X.T, (model_prediction_vector - y)) + (self.lam*self.w))\n",
    "            #print(\"VAL\", (self.lam*self.w))\n",
    "            #print((self.lam*self.w/m))\n",
    "            #print(\"ACTUAL\",y)\n",
    "            #print(\"PREDICTED\", model_prediction_vector)\n",
    "            #if (i%500==0):\n",
    "            #    print(\"ACTUAL\",y)\n",
    "            #    print(\"PREDICTED\", model_prediction_vector)\n",
    "            #    print(\"EXTRAAAAA\", gradient)\n",
    "            self.w -= self.learning_rate * gradient\n",
    "            if (abs(new_loss - loss) <= self.epsilon): # additional convergence condition\n",
    "                #print(new_loss, loss)\n",
    "                #print(\"L(wt+1,bt+1)-L(wt,bt) < eps.\")\n",
    "                #print(\"Exited at the \" + str(i) + \"th iteration.\")\n",
    "                break\n",
    "            elif (i >= self.max_iters):\n",
    "                #print(\"Max iterations reached.\")\n",
    "                #print(\"Exited at the \" + str(i) + \"th iteration.\")\n",
    "                break\n",
    "            else:\n",
    "                loss = new_loss\n",
    "                i+=1\n",
    "        return recorded_loss, epoch_list\n",
    "\n",
    "    def predict(self, X):\n",
    "        model_prediction_vector = 1 / (1 + np.exp(-1 * np.dot(X, self.w)))\n",
    "        classification_vector = []\n",
    "        for x in model_prediction_vector:\n",
    "            if (x >= 0.5):\n",
    "                classification_vector.append(1)\n",
    "            else:\n",
    "                classification_vector.append(0)\n",
    "        return classification_vector"
   ]
  },
  {
   "cell_type": "code",
   "execution_count": 3,
   "id": "5c611219",
   "metadata": {},
   "outputs": [],
   "source": [
    "class LogisticRegressionnegpos: # Performing Logistic Regression using -1 1 formula\n",
    "    def __init__(self, max_iters=100, learning_rate=0.001, epsilon=1e-5, lam=0.01):\n",
    "        self.max_iters = max_iters\n",
    "        self.learning_rate = learning_rate\n",
    "        self.epsilon = epsilon\n",
    "        self.lam = lam\n",
    "        self.w = None\n",
    "\n",
    "    def fit(self, X, y):\n",
    "        self.w = np.zeros(X.shape[1])\n",
    "        m = X.size\n",
    "        loss, i = 0, 0\n",
    "        epoch_list, recorded_loss = [], []\n",
    "        while True:\n",
    "            if (i > 0):\n",
    "                recorded_loss.append(loss)\n",
    "                epoch_list.append(i)\n",
    "            model_prediction_vector = (1 / (1 + np.exp(-1 * np.matmul(X, self.w))))\n",
    "            new_loss = np.log(1+np.exp(np.dot(y,model_prediction_vector))) + ((self.lam/2) * np.sum(self.w ** 2))\n",
    "            #gradient = np.dot(X.T, np.dot(y,(-1 * np.exp(-1 * np.dot(y, model_prediction_vector))) / (1 + -1 * np.exp(-1 * np.dot(y, model_prediction_vector)))))\n",
    "            gradient = -1*np.dot(X.T,((y+1)/2)-model_prediction_vector) + np.sum(self.lam*self.w/m)\n",
    "            self.w -= self.learning_rate * gradient\n",
    "            if (abs(new_loss - loss) < self.epsilon): # additional convergence condition\n",
    "                #print(new_loss, loss)\n",
    "                #print(\"L(wt+1,bt+1)-L(wt,bt) < eps.\")\n",
    "                #print(\"Exited at the \" + str(i) + \"th iteration.\")\n",
    "                break\n",
    "            elif (i >= self.max_iters):\n",
    "                #print(\"Max iterations reached.\")\n",
    "                #print(\"Exited at the \" + str(i) + \"th iteration.\")\n",
    "                break\n",
    "            else:\n",
    "                loss = new_loss\n",
    "                i+=1\n",
    "        return recorded_loss, epoch_list\n",
    "\n",
    "    def predict(self, X):\n",
    "        model_prediction_vector = 1 / (1 + np.exp(-1 * np.dot(X, self.w)))\n",
    "        classification_vector = []\n",
    "        for x in model_prediction_vector:\n",
    "            if (x >= 0.5):\n",
    "                classification_vector.append(1)\n",
    "            else:\n",
    "                classification_vector.append(-1)\n",
    "        return classification_vector"
   ]
  },
  {
   "cell_type": "code",
   "execution_count": 4,
   "id": "a9082df1",
   "metadata": {},
   "outputs": [
    {
     "name": "stdout",
     "output_type": "stream",
     "text": [
      "Train accuracy: 1.0\n",
      "Test accuracy: 1.0\n"
     ]
    }
   ],
   "source": [
    "# Create train and test split for dataset 1 with 0 1 target\n",
    "X_train, X_test, y_train, y_test = load_data1zeroone()\n",
    "\n",
    "# Performing Logistic Regression with 0 regularization\n",
    "regressor = LogisticRegressionzeroone(max_iters=1000, learning_rate=.01, epsilon=1e-5, lam=0)\n",
    "recorded_loss, epoch_list = regressor.fit(X_train, y_train)\n",
    "print(\"Train accuracy:\", accuracy_score(y_train, regressor.predict(X_train)))\n",
    "print(\"Test accuracy:\", accuracy_score(y_test, regressor.predict(X_test)))"
   ]
  },
  {
   "cell_type": "code",
   "execution_count": 5,
   "id": "730f6171",
   "metadata": {},
   "outputs": [
    {
     "data": {
      "image/png": "[encoded data removed]",
      "text/plain": [
       "<Figure size 432x288 with 1 Axes>"
      ]
     },
     "metadata": {
      "needs_background": "light"
     },
     "output_type": "display_data"
    }
   ],
   "source": [
    "# Plotting the Loss over Epochs for the above model\n",
    "def plot_loss(epoch_list, recorded_loss):\n",
    "    plt.plot(epoch_list, recorded_loss)\n",
    "    ax = plt.gca()\n",
    "    ax.set_yscale(\"log\")\n",
    "    ax.set_title(\"Training Curve\", fontsize = 24)\n",
    "    ax.set_xlabel(\"Epoch\", fontsize = 20)\n",
    "    ax.set_ylabel(\"Loss\", fontsize = 20)\n",
    "plot_loss(epoch_list, recorded_loss)"
   ]
  },
  {
   "cell_type": "code",
   "execution_count": 6,
   "id": "9882e223",
   "metadata": {},
   "outputs": [
    {
     "name": "stdout",
     "output_type": "stream",
     "text": [
      "Train accuracy: 0.4875\n",
      "Test accuracy: 0.55\n"
     ]
    }
   ],
   "source": [
    "# I am not overfitting or underfitting the data\n",
    "# Trying to overfit dataset 1 with 0 1 target\n",
    "X_train, X_test, y_train, y_test = load_data1zeroone()\n",
    "poly = PolynomialFeatures(22)\n",
    "X_train = poly.fit_transform(X_train)\n",
    "X_test = poly.fit_transform(X_test)\n",
    "# Performing Logistic Regression with 0 regularization\n",
    "regressor = LogisticRegressionzeroone(max_iters=1000, learning_rate=.001, epsilon=1e-5, lam=0)\n",
    "recorded_loss, epoch_list = regressor.fit(X_train, y_train)\n",
    "print(\"Train accuracy:\", accuracy_score(y_train, regressor.predict(X_train)))\n",
    "print(\"Test accuracy:\", accuracy_score(y_test, regressor.predict(X_test)))"
   ]
  },
  {
   "cell_type": "code",
   "execution_count": 7,
   "id": "6fdd475f",
   "metadata": {},
   "outputs": [
    {
     "name": "stdout",
     "output_type": "stream",
     "text": [
      "Train accuracy: 1.0\n",
      "Test accuracy: 1.0\n"
     ]
    }
   ],
   "source": [
    "# I'm only able to underfit the data, so regularization wouldn't help as it is an overfitting remedy\n",
    "# Let's try again with the -1 1 formula used in class\n",
    "# Create train and test split for dataset 1 with -1 1 target\n",
    "X_train, X_test, y_train, y_test = load_data1negpos()\n",
    "\n",
    "# Performing Logistic Regression with 0 regularization\n",
    "regressor = LogisticRegressionnegpos(max_iters=1000, learning_rate=.01, epsilon=1e-5, lam=0)\n",
    "recorded_loss, epoch_list = regressor.fit(X_train, y_train)\n",
    "print(\"Train accuracy:\", accuracy_score(y_train, regressor.predict(X_train)))\n",
    "print(\"Test accuracy:\", accuracy_score(y_test, regressor.predict(X_test)))"
   ]
  },
  {
   "cell_type": "code",
   "execution_count": 8,
   "id": "3c16607f",
   "metadata": {},
   "outputs": [
    {
     "name": "stdout",
     "output_type": "stream",
     "text": [
      "Train accuracy: 0.9875\n",
      "Test accuracy: 0.95\n"
     ]
    }
   ],
   "source": [
    "# Again, I am not overfitting or underfitting the data\n",
    "# Trying to overfit dataset 1 with -1 1 target\n",
    "X_train, X_test, y_train, y_test = load_data1negpos()\n",
    "poly = PolynomialFeatures(9)\n",
    "X_train = poly.fit_transform(X_train)\n",
    "X_test = poly.fit_transform(X_test)\n",
    "# Performing Logistic Regression with 0 regularization\n",
    "regressor = LogisticRegressionnegpos(max_iters=1000, learning_rate=.001, epsilon=1e-5, lam=0)\n",
    "recorded_loss, epoch_list = regressor.fit(X_train, y_train)\n",
    "print(\"Train accuracy:\", accuracy_score(y_train, regressor.predict(X_train)))\n",
    "print(\"Test accuracy:\", accuracy_score(y_test, regressor.predict(X_test)))"
   ]
  },
  {
   "cell_type": "code",
   "execution_count": 9,
   "id": "f1517d3a",
   "metadata": {},
   "outputs": [
    {
     "name": "stdout",
     "output_type": "stream",
     "text": [
      "Train accuracy: 1.0\n",
      "Test accuracy: 1.0\n"
     ]
    }
   ],
   "source": [
    "# It seems like I'm able to overfit the data\n",
    "# Performing Logistic Regression with regularization at lambda = 0.1\n",
    "regressor = LogisticRegressionnegpos(max_iters=1000, learning_rate=.001, epsilon=1e-5, lam=0.1)\n",
    "recorded_loss, epoch_list = regressor.fit(X_train, y_train)\n",
    "print(\"Train accuracy:\", accuracy_score(y_train, regressor.predict(X_train)))\n",
    "print(\"Test accuracy:\", accuracy_score(y_test, regressor.predict(X_test)))"
   ]
  },
  {
   "cell_type": "code",
   "execution_count": 10,
   "id": "5b9ec1e8",
   "metadata": {},
   "outputs": [
    {
     "name": "stdout",
     "output_type": "stream",
     "text": [
      "Train accuracy: 0.9120879120879121\n",
      "Test accuracy: 0.8508771929824561\n"
     ]
    }
   ],
   "source": [
    "# Regularization increased the test and training accuracy\n",
    "# It looks like I was able to reduce the overfitting with regularization!\n",
    "# Let's try our model with another dataset to see if the model was very biased to dataset 1\n",
    "# Create train and test split for dataset 2 with 0 1 target\n",
    "X_train, X_test, y_train, y_test = load_data2zeroone()\n",
    "# Performing Logistic Regression with 0 regularization\n",
    "regressor = LogisticRegressionzeroone(max_iters=1000, learning_rate=.01, epsilon=1e-5, lam=0)\n",
    "recorded_loss, epoch_list = regressor.fit(X_train, y_train)\n",
    "print(\"Train accuracy:\", accuracy_score(y_train, regressor.predict(X_train)))\n",
    "print(\"Test accuracy:\", accuracy_score(y_test, regressor.predict(X_test)))"
   ]
  },
  {
   "cell_type": "code",
   "execution_count": 11,
   "id": "0df73d46",
   "metadata": {},
   "outputs": [
    {
     "name": "stdout",
     "output_type": "stream",
     "text": [
      "Train accuracy: 0.9230769230769231\n",
      "Test accuracy: 0.8947368421052632\n"
     ]
    }
   ],
   "source": [
    "# It looks like the model overfits on the dataset\n",
    "# Performing Logistic Regression with regularization at lambda = 0.1\n",
    "regressor = LogisticRegressionzeroone(max_iters=1000, learning_rate=.01, epsilon=1e-5, lam=0.1)\n",
    "recorded_loss, epoch_list = regressor.fit(X_train, y_train)\n",
    "print(\"Train accuracy:\", accuracy_score(y_train, regressor.predict(X_train)))\n",
    "print(\"Test accuracy:\", accuracy_score(y_test, regressor.predict(X_test)))"
   ]
  },
  {
   "cell_type": "code",
   "execution_count": 12,
   "id": "5fdf37cc",
   "metadata": {},
   "outputs": [
    {
     "name": "stdout",
     "output_type": "stream",
     "text": [
      "Train accuracy: 0.6197802197802198\n",
      "Test accuracy: 0.6578947368421053\n"
     ]
    }
   ],
   "source": [
    "# Regularization increased the test and training accuracy\n",
    "# It looks like I was able to reduce the overfitting with regularization!\n",
    "# Create train and test split for dataset 2 with -1 1 target\n",
    "X_train, X_test, y_train, y_test = load_data2negpos()\n",
    "# Performing Logistic Regression with 0 regularization\n",
    "regressor = LogisticRegressionnegpos(max_iters=1000, learning_rate=.01, epsilon=1e-5, lam=0)\n",
    "recorded_loss, epoch_list = regressor.fit(X_train, y_train)\n",
    "print(\"Train accuracy:\", accuracy_score(y_train, regressor.predict(X_train)))\n",
    "print(\"Test accuracy:\", accuracy_score(y_test, regressor.predict(X_test)))"
   ]
  },
  {
   "cell_type": "code",
   "execution_count": 13,
   "id": "4c4051b8",
   "metadata": {},
   "outputs": [
    {
     "name": "stdout",
     "output_type": "stream",
     "text": [
      "Train accuracy: 0.3802197802197802\n",
      "Test accuracy: 0.34210526315789475\n"
     ]
    }
   ],
   "source": [
    "# It looks like the model underfits on the data\n",
    "# Trying to overfit dataset 2 with -1 1 target\n",
    "X_train, X_test, y_train, y_test = load_data2negpos()\n",
    "poly = PolynomialFeatures(3)\n",
    "X_train = poly.fit_transform(X_train)\n",
    "X_test = poly.fit_transform(X_test)\n",
    "# Performing Logistic Regression with 0 regularization\n",
    "regressor = LogisticRegressionnegpos(max_iters=1000, learning_rate=.01, epsilon=1e-5, lam=0)\n",
    "recorded_loss, epoch_list = regressor.fit(X_train, y_train)\n",
    "print(\"Train accuracy:\", accuracy_score(y_train, regressor.predict(X_train)))\n",
    "print(\"Test accuracy:\", accuracy_score(y_test, regressor.predict(X_test)))"
   ]
  },
  {
   "cell_type": "code",
   "execution_count": 14,
   "id": "123b9271",
   "metadata": {},
   "outputs": [
    {
     "name": "stdout",
     "output_type": "stream",
     "text": [
      "Train accuracy: 0.9208791208791208\n",
      "Test accuracy: 0.8508771929824561\n"
     ]
    }
   ],
   "source": [
    "# It seems like I'm able to overfit the data\n",
    "# Performing Logistic Regression with regularization at lambda = 9\n",
    "regressor = LogisticRegressionnegpos(max_iters=1000, learning_rate=.01, epsilon=1e-5, lam=9)\n",
    "recorded_loss, epoch_list = regressor.fit(X_train, y_train)\n",
    "print(\"Train accuracy:\", accuracy_score(y_train, regressor.predict(X_train)))\n",
    "print(\"Test accuracy:\", accuracy_score(y_test, regressor.predict(X_test)))"
   ]
  },
  {
   "cell_type": "code",
   "execution_count": 15,
   "id": "cd2fa5d1",
   "metadata": {},
   "outputs": [],
   "source": [
    "# The training accuracy and test accuracy have both increased, but the model is still overfitting"
   ]
  }
 ],
 "metadata": {
  "kernelspec": {
   "display_name": "Python 3 (ipykernel)",
   "language": "python",
   "name": "python3"
  },
  "language_info": {
   "codemirror_mode": {
    "name": "ipython",
    "version": 3
   },
   "file_extension": ".py",
   "mimetype": "text/x-python",
   "name": "python",
   "nbconvert_exporter": "python",
   "pygments_lexer": "ipython3",
   "version": "3.10.2"
  }
 },
 "nbformat": 4,
 "nbformat_minor": 5
}
